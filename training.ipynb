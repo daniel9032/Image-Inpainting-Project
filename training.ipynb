{
 "cells": [
  {
   "cell_type": "code",
   "execution_count": null,
   "id": "f21fb8cf",
   "metadata": {},
   "outputs": [],
   "source": [
    "import os\n",
    "print(os.getcwd())"
   ]
  },
  {
   "cell_type": "code",
   "execution_count": null,
   "id": "0af47bc9",
   "metadata": {},
   "outputs": [],
   "source": [
    "import numpy as np\n",
    "import matplotlib.pyplot as plt\n",
    "import os\n",
    "import torch\n",
    "import torch.optim as optim\n",
    "import torchvision\n",
    "import math\n",
    "from random import randint\n",
    "from PIL import Image\n",
    "\n",
    "from Image_Inpainting_Project.networks_test import Generator, Discriminator\n",
    "from Image_Inpainting_Project.loss import ls_loss_d, ls_loss_g, hinge_loss_d, hinge_loss_g\n",
    "from Image_Inpainting_Project.datasets import ImageDataset, random_bbox, bbox2mask, brush_stroke_mask\n",
    "from datetime import datetime\n",
    "ckpt_path = 'D:inpainting_checkpoints_test/Inpainting_model_state_dict_iter_1000000.pt'"
   ]
  },
  {
   "cell_type": "code",
   "execution_count": null,
   "id": "a9fc109b",
   "metadata": {},
   "outputs": [],
   "source": [
    "train_data = ImageDataset()"
   ]
  },
  {
   "cell_type": "code",
   "execution_count": null,
   "id": "b0e0cebd",
   "metadata": {
    "scrolled": true
   },
   "outputs": [],
   "source": [
    "print(f\"Train size: {len(train_data)}\")"
   ]
  },
  {
   "cell_type": "code",
   "execution_count": null,
   "id": "619f41f6",
   "metadata": {},
   "outputs": [],
   "source": [
    "torch.cuda.is_available()"
   ]
  },
  {
   "cell_type": "code",
   "execution_count": null,
   "id": "1c6a195f",
   "metadata": {},
   "outputs": [],
   "source": [
    "device = torch.device('cuda:0' if torch.cuda.is_available() else 'cpu')\n",
    "print('Device: {}'.format(device))\n",
    "if torch.cuda.is_available():\n",
    "    print('GPU Model: {}'.format(torch.cuda.get_device_name(0)))"
   ]
  },
  {
   "cell_type": "code",
   "execution_count": null,
   "id": "2eaa87ea",
   "metadata": {},
   "outputs": [],
   "source": [
    "batch_size = 4\n",
    "train_loader = torch.utils.data.DataLoader(train_data, shuffle=True, batch_size=batch_size, num_workers=8, pin_memory=True)"
   ]
  },
  {
   "cell_type": "code",
   "execution_count": null,
   "id": "07cac7ab",
   "metadata": {},
   "outputs": [],
   "source": [
    "generator = Generator(4, 64)\n",
    "discriminator = Discriminator(4, 64)\n",
    "generator = generator.to(device)\n",
    "discriminator = discriminator.to(device)"
   ]
  },
  {
   "cell_type": "code",
   "execution_count": null,
   "id": "3f14dfd1",
   "metadata": {},
   "outputs": [],
   "source": [
    "optimizer_g = optim.Adam(generator.parameters(), betas=([0.5, 0.999]), lr=0.0001)\n",
    "optimizer_d = optim.Adam(discriminator.parameters(), betas=([0.5, 0.999]), lr=0.0001)"
   ]
  },
  {
   "cell_type": "code",
   "execution_count": null,
   "id": "258698c0",
   "metadata": {},
   "outputs": [],
   "source": [
    "g_loss_log = []\n",
    "d_loss_log = []"
   ]
  },
  {
   "cell_type": "code",
   "execution_count": null,
   "id": "03a7434d",
   "metadata": {},
   "outputs": [],
   "source": [
    "def train(iterations, generator, discriminator, optimizer_g, optimizer_d, gan_loss_g, gan_loss_d, iter_start):\n",
    "    losses = {}\n",
    "    generator.train()\n",
    "    discriminator.train()\n",
    "    torch.backends.cudnn.benchmark = True\n",
    "    iter_count = iter_start\n",
    "    train_iter = iter(train_loader)\n",
    "    start_time = datetime.now()\n",
    "    for iters in range(iterations):\n",
    "        try:\n",
    "            image = next(train_iter)\n",
    "        except:\n",
    "            train_iter = iter(train_loader)\n",
    "            image = next(train_iter)\n",
    "        iter_count += 1\n",
    "        image = image.to(device=device, dtype=torch.float)\n",
    "            \n",
    "        # Create random mask\n",
    "        bbox = random_bbox()\n",
    "        regular_mask = bbox2mask(bbox).to(device)\n",
    "        irregular_mask = brush_stroke_mask().to(device)\n",
    "        mask = torch.logical_or(irregular_mask, regular_mask).to(torch.float32)\n",
    "\n",
    "        incomplete_img = image * (1.0 - mask)\n",
    "        ones_x = torch.ones_like(incomplete_img)[:, 0:1, :, :].to(device)\n",
    "        x = torch.cat([incomplete_img, ones_x * mask], axis=1)\n",
    "            \n",
    "        coarse_img, fine_img = generator(x, mask)\n",
    "        complete_img = fine_img * mask + incomplete_img * (1.0 - mask)\n",
    "            \n",
    "        img_save = complete_img.cpu().detach().numpy()\n",
    "        mask_save = mask.squeeze().cpu().detach().numpy()\n",
    "            \n",
    "        real_mask = torch.cat((image, torch.tile(mask, [batch_size, 1, 1, 1])), dim=1)\n",
    "        filled_mask = torch.cat((complete_img.detach(), torch.tile(mask, [batch_size, 1, 1, 1])), dim=1)\n",
    "            \n",
    "        real_filled = torch.cat((real_mask, filled_mask))\n",
    "            \n",
    "        # Discriminator training steps\n",
    "        d_real_gen = discriminator(real_filled)\n",
    "        d_real, d_gen = torch.split(d_real_gen, batch_size)\n",
    "            \n",
    "        d_loss = gan_loss_d(d_real, d_gen)\n",
    "        \n",
    "        losses['d_loss'] = d_loss\n",
    "            \n",
    "        # Update discriminator parameters\n",
    "        optimizer_d.zero_grad()\n",
    "        d_loss.backward()\n",
    "        optimizer_d.step()\n",
    "            \n",
    "        # Generator training steps\n",
    "        losses['ae_loss1'] = torch.mean((torch.abs(image - coarse_img)))\n",
    "        losses['ae_loss2'] = torch.mean((torch.abs(image - fine_img)))\n",
    "        losses['ae_loss'] = losses['ae_loss1'] + losses['ae_loss2']\n",
    "            \n",
    "        gen_img = torch.cat((fine_img, torch.tile(mask, [batch_size, 1, 1, 1])), dim=1)\n",
    "            \n",
    "        d_gen = discriminator(gen_img)\n",
    "            \n",
    "        g_loss = gan_loss_g(d_gen)\n",
    "        \n",
    "        losses['g_loss'] = g_loss\n",
    "        losses['g_loss'] += losses['ae_loss']\n",
    "            \n",
    "        # Update generator parameters\n",
    "        optimizer_g.zero_grad()\n",
    "        g_loss.backward()\n",
    "        optimizer_g.step()\n",
    "            \n",
    "        if iter_count % 1000 == 0:\n",
    "            g_loss_log.append(losses['g_loss'].cpu().detach().numpy())\n",
    "            d_loss_log.append(losses['d_loss'].cpu().detach().numpy())\n",
    "                \n",
    "        if iter_count % 5000 == 0:\n",
    "            for idx, result in enumerate(img_save):\n",
    "                inpainted_img = ((result + 1) * 127.5).astype(np.uint8).transpose(1, 2, 0)\n",
    "                inpainted_img = Image.fromarray(inpainted_img).convert('RGB')\n",
    "                inpainted_img.save(f\"D:/inpainting_result_test/iter_{iter_count}_{idx+1}.jpg\")\n",
    "                    \n",
    "        if iter_count % 20000 == 0:\n",
    "            torch.save({'generator_state_dict': generator.state_dict(),\n",
    "                'discriminator_state_dict': discriminator.state_dict(),\n",
    "                'optimizer_g_state_dict': optimizer_g.state_dict(),\n",
    "                'optimizer_d_state_dict': optimizer_d.state_dict(),\n",
    "            }, f'D:inpainting_checkpoints_test/Inpainting_model_state_dict_iter_{iter_count}.pt')\n",
    "            print(f\"Iteration: {iter_count}, time for {iters+1} iterations: {datetime.now() - start_time}\")\n",
    "        \n",
    "    print('Finished Training')\n",
    "    plt.plot(g_loss_log, 'r')\n",
    "    plt.plot(d_loss_log, 'b')\n",
    "    plt.show()"
   ]
  },
  {
   "cell_type": "code",
   "execution_count": null,
   "id": "0c8194f6",
   "metadata": {
    "scrolled": true
   },
   "outputs": [],
   "source": [
    "iterations = 300000\n",
    "iter_count_resume = 0\n",
    "print(iter_count_resume)\n",
    "train(iterations, generator, discriminator, optimizer_g, optimizer_d, hinge_loss_g, hinge_loss_d, iter_start=iter_count_resume)"
   ]
  },
  {
   "cell_type": "code",
   "execution_count": null,
   "id": "751a7483",
   "metadata": {},
   "outputs": [],
   "source": [
    "model_check_point = ckpt_path\n",
    "checkpoint = torch.load(model_check_point)\n",
    "generator.load_state_dict(checkpoint['generator_state_dict'])\n",
    "discriminator.load_state_dict(checkpoint['discriminator_state_dict'])\n",
    "optimizer_g.load_state_dict(checkpoint['optimizer_g_state_dict'])\n",
    "optimizer_d.load_state_dict(checkpoint['optimizer_d_state_dict'])"
   ]
  }
 ],
 "metadata": {
  "kernelspec": {
   "display_name": "Python 3",
   "language": "python",
   "name": "python3"
  },
  "language_info": {
   "codemirror_mode": {
    "name": "ipython",
    "version": 3
   },
   "file_extension": ".py",
   "mimetype": "text/x-python",
   "name": "python",
   "nbconvert_exporter": "python",
   "pygments_lexer": "ipython3",
   "version": "3.8.8"
  }
 },
 "nbformat": 4,
 "nbformat_minor": 5
}
